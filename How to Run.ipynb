{
 "cells": [
  {
   "cell_type": "code",
   "execution_count": null,
   "id": "cb2ce2e7",
   "metadata": {},
   "outputs": [],
   "source": [
    "# Everything in this file worked perfectly fine!"
   ]
  },
  {
   "cell_type": "markdown",
   "id": "c3b3f383",
   "metadata": {},
   "source": [
    "### Steps to run the Streamlit web page --- and run predictions on the FashionMNIST model:\n",
    "\n",
    "(1) **First Launch the TFServing Docker Container** by starting Docker Desktop and typing the foll. command into a Power Shell window (this will open a bash terminal into the Container because of \n",
    "the \"-it --entrypoint /bin/bash\" - I think) --- see [Codebasics Tutorial 48](./) lesson - in Deployment_Main folder\n",
    "\n",
    "Just think of the container as a small computer with a SSH window (ie. bash terminal) looking into it.\n",
    "\n",
    "    docker run -p 8601:8601 -v C:\\Users\\hduser\\Desktop\\_ALL_MAIN_WDS_03_07_2020\\__Deploying_Models___MAIN\\___Streamlit_and_mlflow\\worked___JCharis\\48_tf_serving:/48_tf_serving -it --entrypoint /bin/bash --rm --name tfs tensorflow/serving\n",
    "\n",
    "\n",
    "(2) Next **launch TFServing inside the above container** by typing the foll. command into the bash terminal looking into the container (note the\n",
    "\"model_name=FashionMNIST_model\" below which will be used later in the requests.post() below):\n",
    "\n",
    "\n",
    "    tensorflow_model_server --rest_api_port=8601 --model_name=FashionMNIST_model --model_base_path=/48_tf_serving/saved_models/\n",
    "    \n",
    "Foll. code also works where we are sending all the logs into a file called 'server.log' on the container. Problem is, to see the contents of this 'server.log', we have to open a separate black cmd window, then create a new bash terminal into the container by typing \"docker exec -it tfs /bin/bash\", then type \"tail server.log\".\n",
    "\n",
    "    tensorflow_model_server --rest_api_port=8601 --model_name=FashionMNIST_model --model_base_path=/48_tf_serving/saved_models/>server.log 2>&1\n",
    "\n",
    "\n",
    "(3) **Launch the Streamlit web page** as follows (open windows explorer, navigate to current folder, type cmd in the address link - this will open a black cmd window):\n",
    "\n",
    "    activate tf_latest \n",
    "    streamlit run jcharis___app____LazyP_CNN_FashionMNIST___worked.py\n",
    "\n",
    "I think we can use either tf_latest or pytorch envs because Streamlit is installed in both of them.\n",
    "\n",
    "The \"jcharis___app____LazyP_CNN_FashionMNIST___worked.py\" above contains the code for creating the Streamlit web page. It also has a requests.post() command which sends test data to the following RestAPI end-point created by TF Serving:\n",
    "\n",
    "DEPLOYED_ENDPOINT = \"http://localhost:8601/v1/models/FashionMNIST_model:predict\"\n",
    "\n",
    "The \"http://localhost:8601/v1/models/\" part in the above url is fixed.\n",
    "\n",
    "(4) **Run predictions** by dragging some images from the \"test images\" folder in current folder on to the Streamit web page."
   ]
  },
  {
   "cell_type": "code",
   "execution_count": null,
   "id": "3439e1e4",
   "metadata": {},
   "outputs": [],
   "source": []
  },
  {
   "cell_type": "markdown",
   "id": "c791f875",
   "metadata": {},
   "source": [
    "IMPORTANT NOTE: \n",
    "\n",
    "The \"48_tf_serving\" folder inside current folder contains the trained CNN FashionMNIST model using TF from following lesson by LazyP:\n",
    "\n",
    "[TF2_0_Serving.ipynb](./../../../___TENSORFLOW_2___Main/LazyP___TF2_Course/tf2.0___colab_notebooks/Section_13___AdvancedTF___TF_Serving_and_TFLite)"
   ]
  }
 ],
 "metadata": {
  "kernelspec": {
   "display_name": "Python 3.8 (tf_latest)",
   "language": "python",
   "name": "tf_latest"
  },
  "language_info": {
   "codemirror_mode": {
    "name": "ipython",
    "version": 3
   },
   "file_extension": ".py",
   "mimetype": "text/x-python",
   "name": "python",
   "nbconvert_exporter": "python",
   "pygments_lexer": "ipython3",
   "version": "3.8.11"
  }
 },
 "nbformat": 4,
 "nbformat_minor": 5
}
